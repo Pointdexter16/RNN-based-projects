{
  "nbformat": 4,
  "nbformat_minor": 0,
  "metadata": {
    "colab": {
      "provenance": [],
      "gpuType": "T4"
    },
    "kernelspec": {
      "name": "python3",
      "display_name": "Python 3"
    },
    "language_info": {
      "name": "python"
    },
    "accelerator": "GPU"
  },
  "cells": [
    {
      "cell_type": "code",
      "execution_count": 1,
      "metadata": {
        "colab": {
          "base_uri": "https://localhost:8080/"
        },
        "id": "6KbL_dMupJqb",
        "outputId": "2df7fcda-5f85-4e90-d889-1cf54dedbd45"
      },
      "outputs": [
        {
          "output_type": "stream",
          "name": "stdout",
          "text": [
            "Requirement already satisfied: nltk in /usr/local/lib/python3.11/dist-packages (3.9.1)\n",
            "Requirement already satisfied: click in /usr/local/lib/python3.11/dist-packages (from nltk) (8.2.1)\n",
            "Requirement already satisfied: joblib in /usr/local/lib/python3.11/dist-packages (from nltk) (1.5.1)\n",
            "Requirement already satisfied: regex>=2021.8.3 in /usr/local/lib/python3.11/dist-packages (from nltk) (2024.11.6)\n",
            "Requirement already satisfied: tqdm in /usr/local/lib/python3.11/dist-packages (from nltk) (4.67.1)\n"
          ]
        }
      ],
      "source": [
        "!pip install nltk"
      ]
    },
    {
      "cell_type": "code",
      "source": [
        "import torch\n",
        "import torch.nn as nn\n",
        "import torch.optim as optim\n",
        "import numpy as np\n",
        "from collections import Counter\n",
        "from torch.utils.data import Dataset, DataLoader\n",
        "from nltk.tokenize import word_tokenize\n",
        "import nltk"
      ],
      "metadata": {
        "id": "fy1rJ-SbpVrV"
      },
      "execution_count": 130,
      "outputs": []
    },
    {
      "cell_type": "code",
      "source": [
        "document = \"\"\"About the Program\n",
        "What is the course fee for  Data Science Mentorship Program (DSMP 2023)\n",
        "The course follows a monthly subscription model where you have to make monthly payments of Rs 799/month.\n",
        "What is the total duration of the course?\n",
        "The total duration of the course is 7 months. So the total course fee becomes 799*7 = Rs 5600(approx.)\n",
        "What is the syllabus of the mentorship program?\n",
        "We will be covering the following modules:\n",
        "Python Fundamentals\n",
        "Python libraries for Data Science\n",
        "Data Analysis\n",
        "SQL for Data Science\n",
        "Maths for Machine Learning\n",
        "ML Algorithms\n",
        "Practical ML\n",
        "MLOPs\n",
        "Case studies\n",
        "You can check the detailed syllabus here - https://learnwith.campusx.in/courses/CampusX-Data-Science-Mentorship-Program-637339afe4b0615a1bbed390\n",
        "Will Deep Learning and NLP be a part of this program?\n",
        "No, NLP and Deep Learning both are not a part of this program’s curriculum.\n",
        "What if I miss a live session? Will I get a recording of the session?\n",
        "Yes all our sessions are recorded, so even if you miss a session you can go back and watch the recording.\n",
        "Where can I find the class schedule?\n",
        "Checkout this google sheet to see month by month time table of the course - https://docs.google.com/spreadsheets/d/16OoTax_A6ORAeCg4emgexhqqPv3noQPYKU7RJ6ArOzk/edit?usp=sharing.\n",
        "What is the time duration of all the live sessions?\n",
        "Roughly, all the sessions last 2 hours.\n",
        "What is the language spoken by the instructor during the sessions?\n",
        "Hinglish\n",
        "How will I be informed about the upcoming class?\n",
        "You will get a mail from our side before every paid session once you become a paid user.\n",
        "Can I do this course if I am from a non-tech background?\n",
        "Yes, absolutely.\n",
        "I am late, can I join the program in the middle?\n",
        "Absolutely, you can join the program anytime.\n",
        "If I join/pay in the middle, will I be able to see all the past lectures?\n",
        "Yes, once you make the payment you will be able to see all the past content in your dashboard.\n",
        "Where do I have to submit the task?\n",
        "You don’t have to submit the task. We will provide you with the solutions, you have to self evaluate the task yourself.\n",
        "Will we do case studies in the program?\n",
        "Yes.\n",
        "Where can we contact you?\n",
        "You can mail us at nitish.campusx@gmail.com\n",
        "Payment/Registration related questions\n",
        "Where do we have to make our payments? Your YouTube channel or website?\n",
        "You have to make all your monthly payments on our website. Here is the link for our website - https://learnwith.campusx.in/\n",
        "Can we pay the entire amount of Rs 5600 all at once?\n",
        "Unfortunately no, the program follows a monthly subscription model.\n",
        "What is the validity of monthly subscription? Suppose if I pay on 15th Jan, then do I have to pay again on 1st Feb or 15th Feb\n",
        "15th Feb. The validity period is 30 days from the day you make the payment. So essentially you can join anytime you don’t have to wait for a month to end.\n",
        "What if I don’t like the course after making the payment. What is the refund policy?\n",
        "You get a 7 days refund period from the day you have made the payment.\n",
        "I am living outside India and I am not able to make the payment on the website, what should I do?\n",
        "You have to contact us by sending a mail at nitish.campusx@gmail.com\n",
        "Post registration queries\n",
        "Till when can I view the paid videos on the website?\n",
        "This one is tricky, so read carefully. You can watch the videos till your subscription is valid. Suppose you have purchased subscription on 21st Jan, you will be able to watch all the past paid sessions in the period of 21st Jan to 20th Feb. But after 21st Feb you will have to purchase the subscription again.\n",
        "But once the course is over and you have paid us Rs 5600(or 7 installments of Rs 799) you will be able to watch the paid sessions till Aug 2024.\n",
        "Why lifetime validity is not provided?\n",
        "Because of the low course fee.\n",
        "Where can I reach out in case of a doubt after the session?\n",
        "You will have to fill a google form provided in your dashboard and our team will contact you for a 1 on 1 doubt clearance session\n",
        "If I join the program late, can I still ask past week doubts?\n",
        "Yes, just select past week doubt in the doubt clearance google form.\n",
        "I am living outside India and I am not able to make the payment on the website, what should I do?\n",
        "You have to contact us by sending a mail at nitish.campusx@gmai.com\n",
        "Certificate and Placement Assistance related queries\n",
        "What is the criteria to get the certificate?\n",
        "There are 2 criterias:\n",
        "You have to pay the entire fee of Rs 5600\n",
        "You have to attempt all the course assessments.\n",
        "I am joining late. How can I pay payment of the earlier months?\n",
        "You will get a link to pay fee of earlier months in your dashboard once you pay for the current month.\n",
        "I have read that Placement assistance is a part of this program. What comes under Placement assistance?\n",
        "This is to clarify that Placement assistance does not mean Placement guarantee. So we dont guarantee you any jobs or for that matter even interview calls. So if you are planning to join this course just for placements, I am afraid you will be disappointed. Here is what comes under placement assistance\n",
        "Portfolio Building sessions\n",
        "Soft skill sessions\n",
        "Sessions with industry mentors\n",
        "Discussion on Job hunting strategies\n",
        "\"\"\""
      ],
      "metadata": {
        "id": "W8WGNl99pV9p"
      },
      "execution_count": 3,
      "outputs": []
    },
    {
      "cell_type": "code",
      "source": [
        "# Tokenization\n",
        "nltk.download('punkt')\n",
        "nltk.download('punkt_tab')"
      ],
      "metadata": {
        "colab": {
          "base_uri": "https://localhost:8080/"
        },
        "id": "kDUwXaKTphEh",
        "outputId": "56ab8ac1-24e7-4b62-aa69-583c2a78babc"
      },
      "execution_count": 4,
      "outputs": [
        {
          "output_type": "stream",
          "name": "stderr",
          "text": [
            "[nltk_data] Downloading package punkt to /root/nltk_data...\n",
            "[nltk_data]   Unzipping tokenizers/punkt.zip.\n",
            "[nltk_data] Downloading package punkt_tab to /root/nltk_data...\n",
            "[nltk_data]   Unzipping tokenizers/punkt_tab.zip.\n"
          ]
        },
        {
          "output_type": "execute_result",
          "data": {
            "text/plain": [
              "True"
            ]
          },
          "metadata": {},
          "execution_count": 4
        }
      ]
    },
    {
      "cell_type": "code",
      "source": [
        "len(word_tokenize(document.lower()))"
      ],
      "metadata": {
        "colab": {
          "base_uri": "https://localhost:8080/"
        },
        "id": "VDnyOQw5qQC8",
        "outputId": "9ffa3d94-8a81-41b2-a241-899c6ca733d2"
      },
      "execution_count": 14,
      "outputs": [
        {
          "output_type": "execute_result",
          "data": {
            "text/plain": [
              "1018"
            ]
          },
          "metadata": {},
          "execution_count": 14
        }
      ]
    },
    {
      "cell_type": "code",
      "source": [
        "def tokenize_document_build_vocab(document):\n",
        "    document=document.lower().split('\\n')\n",
        "    tokenized_document=[]\n",
        "    vocab={'<UNK>':0}\n",
        "    for sentence in document:\n",
        "      tokenized_sentence=word_tokenize(sentence)\n",
        "      tokenized_document.append(tokenized_sentence)\n",
        "      for word in tokenized_sentence:\n",
        "        if word not in vocab:\n",
        "          vocab[word]=len(vocab)\n",
        "    return tokenized_document,vocab"
      ],
      "metadata": {
        "id": "4LsKSWqMqcT3"
      },
      "execution_count": 36,
      "outputs": []
    },
    {
      "cell_type": "code",
      "source": [
        "def document_to_index(tokenize_document,vocab):\n",
        "  indexed_document=[]\n",
        "  for sentence in tokenize_document:\n",
        "    indexed_sentence=[]\n",
        "    for word in sentence:\n",
        "      indexed_sentence.append(vocab[word])\n",
        "    indexed_document.append(indexed_sentence)\n",
        "  return indexed_document"
      ],
      "metadata": {
        "id": "h0iJDHMCsmdz"
      },
      "execution_count": 40,
      "outputs": []
    },
    {
      "cell_type": "code",
      "source": [
        "tokenized_doc,vocab=tokenize_document_build_vocab(document)\n",
        "indexed_doc=document_to_index(tokenized_doc,vocab)"
      ],
      "metadata": {
        "id": "e4sO9MPEtqtn"
      },
      "execution_count": 43,
      "outputs": []
    },
    {
      "cell_type": "code",
      "source": [
        "data=[]\n",
        "for sentence in indexed_doc:\n",
        "  i=0\n",
        "  while(i+2<=len(sentence)):\n",
        "    data.append(sentence[:i+2])\n",
        "    i+=1"
      ],
      "metadata": {
        "colab": {
          "base_uri": "https://localhost:8080/"
        },
        "id": "rNzMKenxwCuS",
        "outputId": "2e132665-05ef-4298-a6ed-e3a1d4657aeb"
      },
      "execution_count": 49,
      "outputs": [
        {
          "output_type": "execute_result",
          "data": {
            "text/plain": [
              "942"
            ]
          },
          "metadata": {},
          "execution_count": 49
        }
      ]
    },
    {
      "cell_type": "code",
      "source": [
        "max=0\n",
        "for dataPoint in data:\n",
        "  if len(dataPoint)>max:\n",
        "    max=len(dataPoint)"
      ],
      "metadata": {
        "colab": {
          "base_uri": "https://localhost:8080/"
        },
        "id": "0k3dXWLRwaBZ",
        "outputId": "92716955-6add-4de1-c818-04c9edf4ddd7"
      },
      "execution_count": 50,
      "outputs": [
        {
          "output_type": "execute_result",
          "data": {
            "text/plain": [
              "62"
            ]
          },
          "metadata": {},
          "execution_count": 50
        }
      ]
    },
    {
      "cell_type": "code",
      "source": [
        "for i,dataPoint in enumerate(data):\n",
        "  data[i]=[0]*(max-len(dataPoint))+dataPoint"
      ],
      "metadata": {
        "colab": {
          "base_uri": "https://localhost:8080/"
        },
        "id": "pAXqq2Pvxo74",
        "outputId": "d9db6401-fe41-4407-ff64-2059030ce5c0"
      },
      "execution_count": 53,
      "outputs": [
        {
          "output_type": "execute_result",
          "data": {
            "text/plain": [
              "942"
            ]
          },
          "metadata": {},
          "execution_count": 53
        }
      ]
    },
    {
      "cell_type": "code",
      "source": [
        "data=torch.tensor(data,dtype=torch.long)\n",
        "X=data[:,:-1]\n",
        "Y=data[:,-1]"
      ],
      "metadata": {
        "id": "xS-caEjZx2gE"
      },
      "execution_count": 84,
      "outputs": []
    },
    {
      "cell_type": "code",
      "source": [],
      "metadata": {
        "colab": {
          "base_uri": "https://localhost:8080/"
        },
        "id": "pez80Q3K04cG",
        "outputId": "b05ca33e-34ab-40ba-ee48-fbe655dbd32c"
      },
      "execution_count": 86,
      "outputs": [
        {
          "output_type": "execute_result",
          "data": {
            "text/plain": [
              "tensor(2)"
            ]
          },
          "metadata": {},
          "execution_count": 86
        }
      ]
    },
    {
      "cell_type": "code",
      "source": [
        "class dataset(Dataset):\n",
        "  def __init__(self,X,Y):\n",
        "    self.X=X\n",
        "    self.Y=Y\n",
        "\n",
        "  def __len__(self):\n",
        "    return len(self.X)\n",
        "\n",
        "  def __getitem__(self,index):\n",
        "    return self.X[index],self.Y[index]\n",
        ""
      ],
      "metadata": {
        "id": "MPwuQv_Uyt3H"
      },
      "execution_count": 87,
      "outputs": []
    },
    {
      "cell_type": "code",
      "source": [
        "myDataSet=dataset(X,Y)"
      ],
      "metadata": {
        "id": "dCuHDJot0ocR"
      },
      "execution_count": 88,
      "outputs": []
    },
    {
      "cell_type": "code",
      "source": [
        "dataloader=DataLoader(myDataSet,batch_size=32,shuffle=True)"
      ],
      "metadata": {
        "id": "Xwzc5DyX0ttb"
      },
      "execution_count": 92,
      "outputs": []
    },
    {
      "cell_type": "code",
      "source": [
        "class LSTM(nn.Module):\n",
        "  def __init__(self,vocab_size):\n",
        "    super().__init__()\n",
        "    self.embedding=nn.Embedding(vocab_size,100)\n",
        "    self.lstm=nn.LSTM(100,128,batch_first=True)\n",
        "    self.fc=nn.Linear(128,vocab_size)\n",
        "  def forward(self,X):\n",
        "    out=self.embedding(X)\n",
        "    _,(out,_)=self.lstm(out)\n",
        "    out=self.fc(out.squeeze_(0))\n",
        "    return out"
      ],
      "metadata": {
        "id": "iwHK69iW1gAq"
      },
      "execution_count": 125,
      "outputs": []
    },
    {
      "cell_type": "code",
      "source": [
        "model=LSTM(len(vocab))\n",
        "device = torch.device(\"cuda\" if torch.cuda.is_available() else \"cpu\")\n",
        "model = model.to(device)"
      ],
      "metadata": {
        "id": "iQSppzBv_Wy0"
      },
      "execution_count": 126,
      "outputs": []
    },
    {
      "cell_type": "code",
      "source": [
        "epoches=50\n",
        "learning_rate=0.001\n",
        "criterion = nn.CrossEntropyLoss()\n",
        "optimizer=optim.Adam(model.parameters(),lr=learning_rate)"
      ],
      "metadata": {
        "id": "KunJ0cO0_2uF"
      },
      "execution_count": 131,
      "outputs": []
    },
    {
      "cell_type": "code",
      "source": [
        "#training loop\n",
        "for epoch in range(epoches):\n",
        "  total_loss=0\n",
        "  for x,y in dataloader:\n",
        "    x,y=x.to(device),y.to(device)\n",
        "    optimizer.zero_grad()\n",
        "    y_pred=model(x)\n",
        "    loss=criterion(y_pred,y)\n",
        "    loss.backward()\n",
        "    optimizer.step()\n",
        "    total_loss+=loss.item()\n",
        "  print(f\"epoch: {epoch+1}, loss: {(total_loss/32):.4f}\")\n"
      ],
      "metadata": {
        "colab": {
          "base_uri": "https://localhost:8080/"
        },
        "id": "mO-cXE9mAOTj",
        "outputId": "191cc900-2d4b-41fe-bca4-3f1e71ae9a30"
      },
      "execution_count": 134,
      "outputs": [
        {
          "output_type": "stream",
          "name": "stdout",
          "text": [
            "epoch: 1, loss: 5.2191\n",
            "epoch: 2, loss: 4.6356\n",
            "epoch: 3, loss: 4.2620\n",
            "epoch: 4, loss: 3.9154\n",
            "epoch: 5, loss: 3.5975\n",
            "epoch: 6, loss: 3.2650\n",
            "epoch: 7, loss: 2.9634\n",
            "epoch: 8, loss: 2.6774\n",
            "epoch: 9, loss: 2.4174\n",
            "epoch: 10, loss: 2.1803\n",
            "epoch: 11, loss: 1.9545\n",
            "epoch: 12, loss: 1.7620\n",
            "epoch: 13, loss: 1.5926\n",
            "epoch: 14, loss: 1.4107\n",
            "epoch: 15, loss: 1.2671\n",
            "epoch: 16, loss: 1.1299\n",
            "epoch: 17, loss: 1.0088\n",
            "epoch: 18, loss: 0.9011\n",
            "epoch: 19, loss: 0.8102\n",
            "epoch: 20, loss: 0.7272\n",
            "epoch: 21, loss: 0.6501\n",
            "epoch: 22, loss: 0.5946\n",
            "epoch: 23, loss: 0.5405\n",
            "epoch: 24, loss: 0.4909\n",
            "epoch: 25, loss: 0.4531\n",
            "epoch: 26, loss: 0.4135\n",
            "epoch: 27, loss: 0.3910\n",
            "epoch: 28, loss: 0.3604\n",
            "epoch: 29, loss: 0.3371\n",
            "epoch: 30, loss: 0.3143\n",
            "epoch: 31, loss: 0.2927\n",
            "epoch: 32, loss: 0.2763\n",
            "epoch: 33, loss: 0.2616\n",
            "epoch: 34, loss: 0.2494\n",
            "epoch: 35, loss: 0.2384\n",
            "epoch: 36, loss: 0.2306\n",
            "epoch: 37, loss: 0.2188\n",
            "epoch: 38, loss: 0.2119\n",
            "epoch: 39, loss: 0.2049\n",
            "epoch: 40, loss: 0.1951\n",
            "epoch: 41, loss: 0.1875\n",
            "epoch: 42, loss: 0.1836\n",
            "epoch: 43, loss: 0.1813\n",
            "epoch: 44, loss: 0.1734\n",
            "epoch: 45, loss: 0.1677\n",
            "epoch: 46, loss: 0.1649\n",
            "epoch: 47, loss: 0.1606\n",
            "epoch: 48, loss: 0.1620\n",
            "epoch: 49, loss: 0.1543\n",
            "epoch: 50, loss: 0.1524\n"
          ]
        }
      ]
    },
    {
      "cell_type": "code",
      "source": [
        "model.eval()"
      ],
      "metadata": {
        "colab": {
          "base_uri": "https://localhost:8080/"
        },
        "id": "LWeOucCMBaBU",
        "outputId": "031421e2-98ec-42bc-b99c-95f9bcb683c6"
      },
      "execution_count": 135,
      "outputs": [
        {
          "output_type": "execute_result",
          "data": {
            "text/plain": [
              "LSTM(\n",
              "  (embedding): Embedding(289, 100)\n",
              "  (lstm): LSTM(100, 128, batch_first=True)\n",
              "  (fc): Linear(in_features=128, out_features=289, bias=True)\n",
              ")"
            ]
          },
          "metadata": {},
          "execution_count": 135
        }
      ]
    },
    {
      "cell_type": "code",
      "source": [
        "def predict(model,ogtext,vocab):\n",
        "  text_index=[]\n",
        "  text=word_tokenize(ogtext.lower())\n",
        "  for t in text:\n",
        "    if vocab.get(t)!=None:\n",
        "      text_index.append(vocab.get(t))\n",
        "    else:\n",
        "      text_index.append(vocab.get('<UNK>'))\n",
        "  text_index=torch.tensor([0]*(max-len(text_index))+text_index,dtype=torch.long)\n",
        "  with torch.no_grad():\n",
        "    y_pred=model(torch.tensor(text_index).unsqueeze(0).to(device))\n",
        "  predict = torch.argmax(y_pred).item()\n",
        "  return  ogtext + \" \" + list(vocab.keys())[predict]"
      ],
      "metadata": {
        "id": "p_hh_NNwAYbW"
      },
      "execution_count": 162,
      "outputs": []
    },
    {
      "cell_type": "code",
      "source": [
        "predict(model,\"Yes, once you make the payment you will be able to see all the past content in your\",vocab)"
      ],
      "metadata": {
        "colab": {
          "base_uri": "https://localhost:8080/",
          "height": 35
        },
        "id": "RIWoa1UqDDfA",
        "outputId": "26cf400b-2b02-43de-8f98-cb492e90d181"
      },
      "execution_count": 172,
      "outputs": [
        {
          "output_type": "execute_result",
          "data": {
            "text/plain": [
              "'Yes, once you make the payment you will be able to see all the past content in your dashboard'"
            ],
            "application/vnd.google.colaboratory.intrinsic+json": {
              "type": "string"
            }
          },
          "metadata": {},
          "execution_count": 172
        }
      ]
    }
  ]
}